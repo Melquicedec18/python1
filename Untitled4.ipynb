{
  "nbformat": 4,
  "nbformat_minor": 0,
  "metadata": {
    "colab": {
      "provenance": [],
      "authorship_tag": "ABX9TyPRbHkhLUFNk0CR6TqWSM/L",
      "include_colab_link": true
    },
    "kernelspec": {
      "name": "python3",
      "display_name": "Python 3"
    },
    "language_info": {
      "name": "python"
    }
  },
  "cells": [
    {
      "cell_type": "markdown",
      "metadata": {
        "id": "view-in-github",
        "colab_type": "text"
      },
      "source": [
        "<a href=\"https://colab.research.google.com/github/Melquicedec18/python1/blob/main/Untitled4.ipynb\" target=\"_parent\"><img src=\"https://colab.research.google.com/assets/colab-badge.svg\" alt=\"Open In Colab\"/></a>"
      ]
    },
    {
      "cell_type": "markdown",
      "source": [
        "1.- FUNCIÓN QUE LEA n CANTIDAD DE NÚMEROS HASTA QUE EL USUARIO LO DESEE, DESPLEGAR LA SUMA DE LOS NÚMEROS, MEDIA Y VALOR DE LOS NÚMEROS MAYORES Y MENORES."
      ],
      "metadata": {
        "id": "XlDGwpxJ0eiN"
      }
    },
    {
      "cell_type": "code",
      "source": [
        "range = int(input(\"dame un numero\"))"
      ],
      "metadata": {
        "colab": {
          "base_uri": "https://localhost:8080/"
        },
        "id": "_Kh96tEfzGUF",
        "outputId": "7de0941e-47d4-4fff-c29d-8222592e2275"
      },
      "execution_count": 2,
      "outputs": [
        {
          "name": "stdout",
          "output_type": "stream",
          "text": [
            "dame un numero6\n"
          ]
        }
      ]
    },
    {
      "cell_type": "code",
      "execution_count": null,
      "metadata": {
        "id": "5B9NJ6kgzD4X"
      },
      "outputs": [],
      "source": [
        "num = []\n",
        "while True:\n",
        "    try:\n",
        "        num = int(input(\"dame un numero\"))\n",
        "        if num == 0:\n",
        "        break\n",
        "        elif num < 0 or num > range:\n",
        "            print (\"el numero debe estar en el rango\")\n",
        "        else:\n",
        "            numeros.append(num)\n",
        "    except\n",
        "        valueError:\n",
        "        print(\"error , ingreso de numero\")\n",
        "\n"
      ]
    },
    {
      "cell_type": "code",
      "source": [
        "suma = 0\n",
        "for num in numeros:\n",
        "    suma += num\n",
        "media = suma/len(numeros)\n",
        "mayor = max(numeros)\n",
        "menor = min(numeros)\n",
        "    "
      ],
      "metadata": {
        "id": "keqRd-Ei-DOT"
      },
      "execution_count": null,
      "outputs": []
    },
    {
      "cell_type": "code",
      "source": [
        "print(\"los numeros ingresados son:\", num)\n",
        "print(\"la suma de los valores:\", suma)\n",
        "print(\"la media de los numeros son:\", media)\n",
        "print(\"el mayor de los numeros es:\", mayor)\n",
        "print(\"el menor de los numeros\", menor)"
      ],
      "metadata": {
        "id": "3nzECODO-isj"
      },
      "execution_count": null,
      "outputs": []
    }
  ]
}