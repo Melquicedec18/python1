{
  "nbformat": 4,
  "nbformat_minor": 0,
  "metadata": {
    "colab": {
      "provenance": [],
      "toc_visible": true,
      "authorship_tag": "ABX9TyNzl4D4prnnIzOZWU2Lqy5j",
      "include_colab_link": true
    },
    "kernelspec": {
      "name": "python3",
      "display_name": "Python 3"
    },
    "language_info": {
      "name": "python"
    }
  },
  "cells": [
    {
      "cell_type": "markdown",
      "metadata": {
        "id": "view-in-github",
        "colab_type": "text"
      },
      "source": [
        "<a href=\"https://colab.research.google.com/github/Melquicedec18/python1/blob/main/Untitled0.ipynb\" target=\"_parent\"><img src=\"https://colab.research.google.com/assets/colab-badge.svg\" alt=\"Open In Colab\"/></a>"
      ]
    },
    {
      "cell_type": "markdown",
      "source": [
        "# *MI PRIMER CODICO CON COLOBORATY*"
      ],
      "metadata": {
        "id": "PBa_Sn490qbn"
      }
    },
    {
      "cell_type": "code",
      "execution_count": 1,
      "metadata": {
        "colab": {
          "base_uri": "https://localhost:8080/"
        },
        "id": "92ofNBY1ygsx",
        "outputId": "15cb34fa-77de-4c51-a194-cf2f643bc9a0"
      },
      "outputs": [
        {
          "output_type": "stream",
          "name": "stdout",
          "text": [
            "hola mundo\n"
          ]
        }
      ],
      "source": [
        "print (\"hola mundo\")"
      ]
    },
    {
      "cell_type": "markdown",
      "source": [
        "## ESTE ES MI BOMBRE"
      ],
      "metadata": {
        "id": "OZQxasdc0822"
      }
    },
    {
      "cell_type": "code",
      "source": [
        "print (\"Melquicede Luis Vicente\")"
      ],
      "metadata": {
        "colab": {
          "base_uri": "https://localhost:8080/"
        },
        "id": "HuJCdOvq0Kd1",
        "outputId": "342ad640-45de-453e-97ee-7d307ef0ddf1"
      },
      "execution_count": 3,
      "outputs": [
        {
          "output_type": "stream",
          "name": "stdout",
          "text": [
            "Melquicede Luis Vicente\n"
          ]
        }
      ]
    }
  ]
}