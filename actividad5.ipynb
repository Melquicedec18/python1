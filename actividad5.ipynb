{
  "nbformat": 4,
  "nbformat_minor": 0,
  "metadata": {
    "colab": {
      "provenance": [],
      "authorship_tag": "ABX9TyP4tI1Hc1ZMa4hydXkMIocI",
      "include_colab_link": true
    },
    "kernelspec": {
      "name": "python3",
      "display_name": "Python 3"
    },
    "language_info": {
      "name": "python"
    }
  },
  "cells": [
    {
      "cell_type": "markdown",
      "metadata": {
        "id": "view-in-github",
        "colab_type": "text"
      },
      "source": [
        "<a href=\"https://colab.research.google.com/github/Melquicedec18/python1/blob/main/actividad5.ipynb\" target=\"_parent\"><img src=\"https://colab.research.google.com/assets/colab-badge.svg\" alt=\"Open In Colab\"/></a>"
      ]
    },
    {
      "cell_type": "markdown",
      "source": [
        "# ACTIVIDAD: 5\n",
        "# MELQUICEDEC LUIS VICENTE\n",
        "# MATRICULA: 369883\n",
        "# grupo: 432\n"
      ],
      "metadata": {
        "id": "4S9-VZMN_iEw"
      }
    },
    {
      "cell_type": "markdown",
      "source": [
        "## 1.- Programa en Python que genere 40 números aleatorios entre el 0 y 200, desplegar los números y la leyenda de cada número si es par o impar , la cantidad de los números pares e impares así como la suma de los números pares o impares."
      ],
      "metadata": {
        "id": "I1Y1PkcW_dXI"
      }
    },
    {
      "cell_type": "code",
      "source": [
        "import random\n",
        "for i in range(40):\n",
        "    num = random.randint(0,200)\n",
        "    if num % 2:\n",
        "        print (\"impar\")\n",
        "        print (f\"{i+1} == {num}\")\n",
        "    else:\n",
        "        print (\"par\")\n",
        "        print (f\"{i+1} == {num}\")\n"
      ],
      "metadata": {
        "id": "reP_UgZv-FMH"
      },
      "execution_count": null,
      "outputs": []
    },
    {
      "cell_type": "markdown",
      "source": [],
      "metadata": {
        "id": "TZ1uxzdHMnM4"
      }
    },
    {
      "cell_type": "code",
      "source": [],
      "metadata": {
        "id": "iowK-TNJKqUX"
      },
      "execution_count": null,
      "outputs": []
    }
  ]
}