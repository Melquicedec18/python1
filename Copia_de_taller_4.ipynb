{
  "nbformat": 4,
  "nbformat_minor": 0,
  "metadata": {
    "colab": {
      "provenance": [],
      "include_colab_link": true
    },
    "kernelspec": {
      "name": "python3",
      "display_name": "Python 3"
    },
    "language_info": {
      "name": "python"
    }
  },
  "cells": [
    {
      "cell_type": "markdown",
      "metadata": {
        "id": "view-in-github",
        "colab_type": "text"
      },
      "source": [
        "<a href=\"https://colab.research.google.com/github/Melquicedec18/python1/blob/main/Copia_de_taller_4.ipynb\" target=\"_parent\"><img src=\"https://colab.research.google.com/assets/colab-badge.svg\" alt=\"Open In Colab\"/></a>"
      ]
    },
    {
      "cell_type": "markdown",
      "source": [
        "# Melquicedec Luis Vicente\n",
        "# matricula: 369883\n",
        "# actividad 4\n"
      ],
      "metadata": {
        "id": "_tTuRRc3AiP2"
      }
    },
    {
      "cell_type": "markdown",
      "source": [
        "# REALIZA LOS SIGUIENTES EJERCICIOS USANDO LA FORMA ADECUADA Y USANDO try Except NO DEBERA FALLAR EL PROGRAMA."
      ],
      "metadata": {
        "id": "Idu52HuAAgAG"
      }
    },
    {
      "cell_type": "markdown",
      "source": [
        "## 1.-Programa en python   que lea 3 calificaciones calcule el promedio del alumno y desplegar: \n",
        "\n",
        "Si prom < 30 Repetir \n",
        "\n",
        "Si prom >=30 y prom <60 extraordinario \n",
        "\n",
        "Si prom >=60 y prom <70 suficiente \n",
        "\n",
        "Si prom >=70 y prom <80 Regular \n",
        "\n",
        "Si prom >=80 y prom <90 bien \n",
        "\n",
        "Si prom >=90 y prom <98 muy bien \n",
        "\n",
        "Si prom >=98 y prom <=100 excelente \n",
        "\n",
        "Si prom >100 Error en promedio "
      ],
      "metadata": {
        "id": "07BtOmrBBC5N"
      }
    },
    {
      "cell_type": "code",
      "execution_count": 2,
      "metadata": {
        "colab": {
          "base_uri": "https://localhost:8080/"
        },
        "id": "H8uNFtRO5Z9F",
        "outputId": "d2105a5f-5693-48ca-d295-43caf39884f8"
      },
      "outputs": [
        {
          "output_type": "stream",
          "name": "stdout",
          "text": [
            "dame la primera calificacion45\n",
            "dame la segunda calificacion67\n",
            "dame la tercera calificacion78\n",
            "las calificacion final es= 63.333333333333336\n",
            "SUFICIENTE\n"
          ]
        }
      ],
      "source": [
        "try:\n",
        "    cal1 = int(input(\"dame la primera calificacion\"))\n",
        "    cal2 = int(input(\"dame la segunda calificacion\"))\n",
        "    cal3 = int(input(\"dame la tercera calificacion\"))\n",
        "\n",
        "    prom = (cal1 + cal2 + cal3) / 3\n",
        "    print(\"las calificacion final es=\", prom)\n",
        "\n",
        "    if prom<30:\n",
        "        print(\"REPETIR\")\n",
        "    elif prom>=30 and prom<60:\n",
        "        print(\"EXTRAORDINARIO\")\n",
        "    elif prom>=60 and prom<70:\n",
        "        print(\"SUFICIENTE\")\n",
        "    elif prom>=70 and prom<80:\n",
        "        print(\"REGULAR\")\n",
        "    elif prom>=80 and prom<90:\n",
        "        print(\"BIEN\")\n",
        "    elif prom>=90 and prom<98:\n",
        "        print(\"MUY BIEN\")\n",
        "    elif prom>=98 and prom<=100:\n",
        "       print(\"EXCELENTE\")\n",
        "    else:\n",
        "        print(\"ERROR EN PROMEDIO\")\n",
        "except:\n",
        "    print(\"ERROR: las calificaciones deben ser enteros\")\n"
      ]
    },
    {
      "cell_type": "markdown",
      "source": [
        "## 2.- Programa en Python que sirva para calcular el salario semanal de un trabajador donde se obtiene como dato de entrada las horas semanales trabajadas, el salario por hora. \n",
        "\n",
        "El programa deberá calcular el salario normal, salario extra y salario total, considerando lo siguiente: \n",
        "\n",
        "Jornada Normal de 40 horas. \n",
        "El salario normal se considera las horas trabajadas menores o igual a la jornada normal\n",
        "Salario extra se considera las horas trabajadas mayores a la jornada normal y se pagan dobles las primeras 9 y triples a partir de la décima hora extra "
      ],
      "metadata": {
        "id": "A5QPsLEyI8QL"
      }
    },
    {
      "cell_type": "code",
      "source": [
        "try:\n",
        "    \n",
        "    horas_trabajadas = int(input(\"escriba las horas trabajadas:\"))\n",
        "    salario_por_hora = float(input(\"esciba el salario por hora:\"))\n",
        "\n",
        "    if horas_trabajadas <= 40:\n",
        "     salario_normal = horas_trabajadas*salario_por_hora\n",
        "     horas_extras = 0\n",
        "    else:\n",
        "     salario_normal = 40 * salario_por_hora\n",
        "     horas_extras = horas_trabajadas-40\n",
        "\n",
        "    if horas_extras > 0:\n",
        "     if horas_extras <=9:\n",
        "      salario_extra = horas_extras * salario_por_hora*2\n",
        "     else:\n",
        "      salario_extra = 9*salario_por_hora*2+(horas_extras-9)*salario_por_hora*3\n",
        "\n",
        "    else:\n",
        "     salario_extra:0\n",
        "\n",
        "    salario_total = salario_normal + horas_extras\n",
        "\n",
        "    print(\"el Salario normal es:\",\" = \",\"$\",salario_normal)\n",
        "    print(\"el Salario extra es:\",\" = \",\"$\",salario_extra)\n",
        "    print(\"el Salario total es:\",\" = \",\"$\",salario_total)\n",
        "    print(\"HASTA LUEGO,VUELVA PRONTO.\")\n",
        "\n",
        "except:\n",
        "  print(\"ERROR,los salarios deben ser enteros\")\n",
        "\n"
      ],
      "metadata": {
        "id": "saCN73p-JTMD",
        "colab": {
          "base_uri": "https://localhost:8080/"
        },
        "outputId": "35fe4d82-8a77-469a-b2af-ddcfb2620168"
      },
      "execution_count": 3,
      "outputs": [
        {
          "output_type": "stream",
          "name": "stdout",
          "text": [
            "escriba las horas trabajadas:46\n",
            "esciba el salario por hora:350\n",
            "el Salario normal es:  =  $ 14000.0\n",
            "el Salario extra es:  =  $ 4200.0\n",
            "el Salario total es:  =  $ 14006.0\n",
            "HASTA LUEGO,VUELVA PRONTO.\n"
          ]
        }
      ]
    },
    {
      "cell_type": "markdown",
      "source": [
        "## 3.- Programa en Python que sirva para calcular el Total a pagar por consumo de agua, donde el dato de entrada son los M3 de agua consumidos, Tomar en cuenta que se cobra escalonada de la Siguiente manera: \n",
        "\n",
        "Rango1: 0 al 4 M3 $50 x facturación sin importar cuánto consumió en este rango \n",
        "\n",
        "Rango2: 5 a 15 M3 $8.00 x M3 \n",
        "\n",
        "Rango3: 16 a 50 M3 $10.00 x M3 \n",
        "\n",
        "Rango4: 51 M3 en adelante $11.00 x M3 \n",
        "\n",
        "Nota: Desplegar SubTotal, Iva(16%), y Total a pagar.\n",
        "\n"
      ],
      "metadata": {
        "id": "hwX3rC-39-PC"
      }
    },
    {
      "cell_type": "code",
      "source": [
        "try:\n",
        "\n",
        "    m3_consumidos = float(input(\"Ingrese los m3 de agua consumidos: \"))\n",
        "\n",
        "    rango1 = 50\n",
        "    rango2 = 8\n",
        "    rango3 = 10\n",
        "    rango4 = 11\n",
        "\n",
        "    subtotal = 0\n",
        "\n",
        "    if m3_consumidos <= 4:\n",
        "        subtotal = rango1\n",
        "    else:\n",
        "        subtotal += rango1 \n",
        "    if m3_consumidos <= 15:\n",
        "        subtotal += (m3_consumidos - 4) * rango2\n",
        "    elif m3_consumidos <= 50:\n",
        "        subtotal += (15 - 4) * rango2 + (m3_consumidos - 15) * rango3\n",
        "    else:\n",
        "        subtotal += (15 - 4) * rango2 + (50 - 15) * rango3 + (m3_consumidos - 50) * rango4\n",
        "\n",
        "    iva = subtotal * 0.16\n",
        "    total = subtotal + iva\n",
        "\n",
        "    print(\"Subtotal a pagar: $\", subtotal)\n",
        "    print(\"IVA (16%): $\", iva)\n",
        "    print(\"Total a pagar: $\", total)\n",
        "\n",
        "except:\n",
        "  print(\"ERROR,los litros deben ser enteros\")"
      ],
      "metadata": {
        "id": "ZP54J7zb9bXH",
        "colab": {
          "base_uri": "https://localhost:8080/"
        },
        "outputId": "124ddf7c-501e-4542-9af1-b8fd97b2e813"
      },
      "execution_count": 5,
      "outputs": [
        {
          "output_type": "stream",
          "name": "stdout",
          "text": [
            "Ingrese los m3 de agua consumidos: 34\n",
            "Subtotal a pagar: $ 328.0\n",
            "IVA (16%): $ 52.480000000000004\n",
            "Total a pagar: $ 380.48\n"
          ]
        }
      ]
    },
    {
      "cell_type": "markdown",
      "source": [
        "## 4- En la materia de Metodología de la programación se aplican 5 exámenes, calcular el promedio final de la materia donde la calificación menor de los exámenes se anula y el promedio se calcula en base a 4 exámenes.\n",
        "\n",
        "Desplegar el promedio final. y cual es la mas baja que se elimino.\n",
        "\n"
      ],
      "metadata": {
        "id": "kqSks7eK-Nig"
      }
    },
    {
      "cell_type": "code",
      "source": [
        "5try:\n",
        "    examen1 = float(input(\"Ingresa la calificación del primer examen: \"))\n",
        "    examen2 = float(input(\"Ingresa la calificación del segundo examen: \"))\n",
        "    examen3 = float(input(\"Ingresa la calificación del tercer examen: \"))\n",
        "    examen4 = float(input(\"Ingresa la calificación del cuarto examen: \"))\n",
        "    examen5 = float(input(\"Ingresa la calificación del quinto examen: \"))\n",
        "    calificaciones = [examen1, examen2, examen3, examen4, examen5]\n",
        "    calificaciones.sort(reverse=True)\n",
        "    promedio = sum(calificaciones[:4]) / 4\n",
        "    print(\"el promedio de la materia es:\",promedio)\n",
        "\n",
        "except:\n",
        "  print(\"el numero menor se elimina\")"
      ],
      "metadata": {
        "id": "r7jrPXK-9iIR",
        "colab": {
          "base_uri": "https://localhost:8080/"
        },
        "outputId": "9667ede0-1288-4dec-9400-af97c985c75d"
      },
      "execution_count": 6,
      "outputs": [
        {
          "output_type": "stream",
          "name": "stdout",
          "text": [
            "Ingresa la calificación del primer examen: 23\n",
            "Ingresa la calificación del segundo examen: 44\n",
            "Ingresa la calificación del tercer examen: 55\n",
            "Ingresa la calificación del cuarto examen: 56\n",
            "Ingresa la calificación del quinto examen: 66\n",
            "el promedio de la materia es: 55.25\n"
          ]
        }
      ]
    },
    {
      "cell_type": "markdown",
      "source": [
        "## 5.- Programa en Python que sirva para el juego del CHINCHAMPU (Piedra, Papel, Tijera) para 1 jugador y la computadora"
      ],
      "metadata": {
        "id": "HTRsK8yp-QEV"
      }
    },
    {
      "cell_type": "code",
      "source": [
        "try:\n",
        "    import random\n",
        "    opciones = [\"piedra\", \"papel\", \"tijera\"]\n",
        "\n",
        "    jugador = input(\"Elige piedra, papel o tijera: \")\n",
        "\n",
        "    computadora = random.choice(opciones)\n",
        "\n",
        "    if jugador == \"piedra\":\n",
        "        if computadora == \"piedra\":\n",
        "            print(\"Empate\")\n",
        "        elif computadora == \"papel\":\n",
        "            print(\"Gana la computadora\")\n",
        "        else:\n",
        "            print(\"usted es el ganador\")\n",
        "    elif jugador == \"papel\":\n",
        "        if computadora == \"piedra\":\n",
        "          print(\"usted es el ganador\")\n",
        "        elif computadora == \"papel\":\n",
        "            print(\"Empate\")\n",
        "        else:\n",
        "            print(\"Gana la computadora\")\n",
        "    else: \n",
        "        if computadora == \"piedra\":\n",
        "          print(\"Gana la computadora\")\n",
        "        elif computadora == \"papel\":\n",
        "          print(\"usted es el ganador\")\n",
        "        else:\n",
        "          print(\"Empate\")\n",
        "except:\n",
        "  print(\"ERROR,solo caracteres\")"
      ],
      "metadata": {
        "id": "3CyJS2-g9lgw",
        "colab": {
          "base_uri": "https://localhost:8080/"
        },
        "outputId": "86e456a5-bd66-4f24-8757-34406c8007b9"
      },
      "execution_count": 8,
      "outputs": [
        {
          "output_type": "stream",
          "name": "stdout",
          "text": [
            "Elige piedra, papel o tijera: tijera\n",
            "Gana la computadora\n"
          ]
        }
      ]
    },
    {
      "cell_type": "markdown",
      "source": [
        "\n",
        "## 6.- Programa en Python que lea 4 números enteros desplegar cuales el menor, cual es mayor\n",
        "\n"
      ],
      "metadata": {
        "id": "7H0NPpZM-Y3u"
      }
    },
    {
      "cell_type": "code",
      "source": [
        "try:\n",
        "    print(\"dime cuatro numeros enteros:\")\n",
        "    num1 = int(input(\"numero 1:\"))\n",
        "    num2 = int(input(\"numero 2:\"))\n",
        "    num3 = int(input(\"numero 3:\"))\n",
        "    num4 = int(input(\"numero 4:\"))\n",
        "\n",
        "    maximo = num1\n",
        "    if num2 > maximo:\n",
        "      maximo = num2\n",
        "    if num3 > maximo:\n",
        "      maximo = num3\n",
        "    if num4 > maximo:\n",
        "      maximo = num4\n",
        "\n",
        "    minimo = num1\n",
        "    if num2 < minimo:\n",
        "      minimo = num2\n",
        "    if num3 < minimo:\n",
        "      minimo = num3\n",
        "    if num4 < minimo:\n",
        "      minimo = num4\n",
        "\n",
        "    print(\"El número mayor es:\", maximo)\n",
        "    print(\"El número menor es:\", minimo)\n",
        "except:\n",
        "  print(\"ERROR,solo numeros enteros\")\n",
        "\n"
      ],
      "metadata": {
        "id": "zJyUmoQU9puE",
        "colab": {
          "base_uri": "https://localhost:8080/"
        },
        "outputId": "37919dbf-7509-4c20-c9c8-29cf7dd1022b"
      },
      "execution_count": 9,
      "outputs": [
        {
          "output_type": "stream",
          "name": "stdout",
          "text": [
            "dime cuatro numeros enteros:\n",
            "numero 1:34\n",
            "numero 2:3\n",
            "numero 3:55\n",
            "numero 4:43\n",
            "El número mayor es: 55\n",
            "El número menor es: 3\n"
          ]
        }
      ]
    },
    {
      "cell_type": "markdown",
      "source": [
        "## 7.- Programa en Python que sirva para calcular el área de un triangulo, los datos de entrada deben ser forzosamente de tipo real"
      ],
      "metadata": {
        "id": "nuDl2jTy-i6i"
      }
    },
    {
      "cell_type": "code",
      "source": [
        "try:\n",
        "    base = float(input(\"dime la base: \"))\n",
        "    altura = float(input(\"dime la area: \"))\n",
        "\n",
        "    area = base*altura/2\n",
        "    print(\"el resulatado es:\",area)\n",
        "except:\n",
        "  print(\"ERROR,los numeros deben ser tipo real\")\n"
      ],
      "metadata": {
        "id": "a7t-gPZP9sik",
        "colab": {
          "base_uri": "https://localhost:8080/"
        },
        "outputId": "19bd6ab9-2b33-494c-f5a4-399db36c8989"
      },
      "execution_count": 10,
      "outputs": [
        {
          "output_type": "stream",
          "name": "stdout",
          "text": [
            "dime la base: 43\n",
            "dime la area: 55\n",
            "el resulatado es: 1182.5\n"
          ]
        }
      ]
    },
    {
      "cell_type": "markdown",
      "source": [
        "## 8.- Programa en Python que sirva para calcular el área de un circulo"
      ],
      "metadata": {
        "id": "BvsPa8st-mci"
      }
    },
    {
      "cell_type": "code",
      "source": [
        "try:\n",
        "    radio = int(input(\"Introduce el radio del círculo: \"))\n",
        "    area = 3.14159 * radio**2\n",
        "\n",
        "    print(\"El área del círculo es:\", area)\n",
        "except:\n",
        "  print(\"ERROR,los numeros deben ser tipo real\")"
      ],
      "metadata": {
        "id": "ekM6rL_N9wA3",
        "colab": {
          "base_uri": "https://localhost:8080/"
        },
        "outputId": "aa7a5a35-daf0-4dd5-cb39-1129340345d6"
      },
      "execution_count": 11,
      "outputs": [
        {
          "output_type": "stream",
          "name": "stdout",
          "text": [
            "Introduce el radio del círculo: 54\n",
            "El área del círculo es: 9160.87644\n"
          ]
        }
      ]
    }
  ]
}