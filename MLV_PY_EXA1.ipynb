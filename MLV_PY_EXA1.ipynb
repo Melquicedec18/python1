{
  "nbformat": 4,
  "nbformat_minor": 0,
  "metadata": {
    "colab": {
      "provenance": [],
      "authorship_tag": "ABX9TyPDWQzfu5TkSZmFzQMOtG8A",
      "include_colab_link": true
    },
    "kernelspec": {
      "name": "python3",
      "display_name": "Python 3"
    },
    "language_info": {
      "name": "python"
    }
  },
  "cells": [
    {
      "cell_type": "markdown",
      "metadata": {
        "id": "view-in-github",
        "colab_type": "text"
      },
      "source": [
        "<a href=\"https://colab.research.google.com/github/Melquicedec18/python1/blob/main/MLV_PY_EXA1.ipynb\" target=\"_parent\"><img src=\"https://colab.research.google.com/assets/colab-badge.svg\" alt=\"Open In Colab\"/></a>"
      ]
    },
    {
      "cell_type": "markdown",
      "source": [
        "\n",
        "Escribe una funcion de Python en collaboratory que realice lo siguiente:\n",
        "\n",
        "funcion que retorne el factorial de un numero dado \n"
      ],
      "metadata": {
        "id": "kL6PQxcK1eXK"
      }
    },
    {
      "cell_type": "code",
      "execution_count": null,
      "metadata": {
        "id": "Iu-1s7UW0O2u"
      },
      "outputs": [],
      "source": [
        "print(\"DAME UN NUMERO EL CUAL QUIERES EL FACTORIAL\")\n"
      ]
    }
  ]
}