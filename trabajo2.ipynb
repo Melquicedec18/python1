{
  "nbformat": 4,
  "nbformat_minor": 0,
  "metadata": {
    "colab": {
      "provenance": [],
      "authorship_tag": "ABX9TyMEua/jvTmJbIlq8m4RwwzH",
      "include_colab_link": true
    },
    "kernelspec": {
      "name": "python3",
      "display_name": "Python 3"
    },
    "language_info": {
      "name": "python"
    }
  },
  "cells": [
    {
      "cell_type": "markdown",
      "metadata": {
        "id": "view-in-github",
        "colab_type": "text"
      },
      "source": [
        "<a href=\"https://colab.research.google.com/github/Melquicedec18/python1/blob/main/trabajo2.ipynb\" target=\"_parent\"><img src=\"https://colab.research.google.com/assets/colab-badge.svg\" alt=\"Open In Colab\"/></a>"
      ]
    },
    {
      "cell_type": "markdown",
      "source": [
        "# MELQUICEDEC LUIS VICENTE\n",
        "# Matricula: 369883\n",
        "# 432\n",
        "# Actividad 2"
      ],
      "metadata": {
        "id": "zv-XZhoXrb1Y"
      }
    },
    {
      "cell_type": "markdown",
      "source": [
        "## 1.- Programa en Python que lea 2 números enteros, usar una condición y analizar los dos números y desplegar cual de los números es el mayor.\n",
        "\n"
      ],
      "metadata": {
        "id": "kduftpoarlDn"
      }
    },
    {
      "cell_type": "code",
      "execution_count": null,
      "metadata": {
        "colab": {
          "base_uri": "https://localhost:8080/"
        },
        "id": "c2hWrGl8rbF3",
        "outputId": "6addf507-6072-44e1-f957-0f39965ea5a6"
      },
      "outputs": [
        {
          "output_type": "stream",
          "name": "stdout",
          "text": [
            "dime dos números enteros: \n",
            "numero 1: 45\n",
            "numero 2: 6\n",
            "el numero mayor es 45\n"
          ]
        }
      ],
      "source": [
        "print(\"dime dos números enteros: \") \n",
        "num1 = int(input(\"numero 1: \"))\n",
        "num2 = int(input(\"numero 2: \")) \n",
        "if num1 > num2:\n",
        "    print(f\"el numero mayor es {num1}\") \n",
        "if num2 > num1:\n",
        "    print(f\"el numero mayor es {num2}\")\n"
      ]
    },
    {
      "cell_type": "markdown",
      "source": [
        "## 2.- Programa en PythonAlgoritmo que lea 4 calificaciones de un alumno, calcular y desplegar el promedio acompañado de la leyenda \"APROBADO\" o \"REPROBADO\""
      ],
      "metadata": {
        "id": "6k6giza-sSDT"
      }
    },
    {
      "cell_type": "code",
      "source": [
        "calif1 = int(input(\"dame tu calificacion:\")) \n",
        "calif2 = int(input(\"dame tu seunda calificacion:\")) \n",
        "calif3 = int(input(\"dame tu tercera calficacion:\")) \n",
        "calif4 = int(input(\"dame tu cuarta calificacin:\"))\n",
        "\n",
        "promedio = (calif1 + calif2 + calif3 + calif4) / 4 \n",
        "print(f\"tu promedio es: {promedio}\")\n",
        "if promedio >= 60:\n",
        "    print(\"APROBADO\") \n",
        "if promedio < 60:\n",
        "    print(\"REPROBADO\")\n"
      ],
      "metadata": {
        "colab": {
          "base_uri": "https://localhost:8080/"
        },
        "id": "g8YI3DCdr_Bw",
        "outputId": "5fe83a47-d6ce-4c12-c3cb-e91001f03f64"
      },
      "execution_count": null,
      "outputs": [
        {
          "output_type": "stream",
          "name": "stdout",
          "text": [
            "dame tu calificacion:21\n",
            "dame tu seunda calificacion:32\n",
            "dame tu tercera calficacion:43\n",
            "dame tu cuarta calificacin:54\n",
            "tu promedio es: 37.5\n",
            "REPROBADO\n"
          ]
        }
      ]
    },
    {
      "cell_type": "markdown",
      "source": [
        "## 3.- Programa en PythonAlgoritmo que a través de opciones (1.- HOMBRE 2.- MUJER ) preguntar al usuario cual es su sexo y desplegar la leyenda “HOMBRE ”, “MUJER”"
      ],
      "metadata": {
        "id": "I8c8_0b0tYoh"
      }
    },
    {
      "cell_type": "code",
      "source": [
        "print(\"al es tu sexo?\") \n",
        "print(\"1.-Hombre\")\n",
        "print(\"2.-Mujer\")\n",
        "opcion1 = input(\"elija·entre (1 o 2):\")\n",
        "if opcion1 == \"1\":\n",
        "    print(\"usted es HOMBRE\") \n",
        "if opcion1 == \"2\":\n",
        "    print(\"usted es MUJER\")\n"
      ],
      "metadata": {
        "colab": {
          "base_uri": "https://localhost:8080/"
        },
        "id": "mYYiZqIftdvH",
        "outputId": "4c48832d-3f85-4dd3-d995-56b4f0a70d37"
      },
      "execution_count": null,
      "outputs": [
        {
          "output_type": "stream",
          "name": "stdout",
          "text": [
            "cual es tu sexo?\n",
            "1.-Hombre\n",
            "2.-Mujer\n",
            "elija·entre (1 o 2):1\n",
            "HOMBRE\n"
          ]
        }
      ]
    },
    {
      "cell_type": "markdown",
      "source": [
        "## 4.-Programa en Python que lea un número entero, y desplegar si el número es “PAR” o “IMPAR”"
      ],
      "metadata": {
        "id": "LUdcpkewup16"
      }
    },
    {
      "cell_type": "code",
      "source": [
        "num = float(input(\"dime un número entero: \"))\n",
        "residuo = num % 2\n",
        "if residuo == 0:\n",
        "    print(\"el numero que ingresaste es PAR\") \n",
        "if residuo > 0:\n",
        "    print(\"el numero que ingresaste es IMPAR\")\n"
      ],
      "metadata": {
        "colab": {
          "base_uri": "https://localhost:8080/"
        },
        "id": "KXJ89X33uvoT",
        "outputId": "2d213be2-994c-4d18-ab97-483c54b68738"
      },
      "execution_count": null,
      "outputs": [
        {
          "output_type": "stream",
          "name": "stdout",
          "text": [
            "dime un número entero: 9\n",
            "el numero que ingresaste es IMPAR\n"
          ]
        }
      ]
    },
    {
      "cell_type": "markdown",
      "source": [
        "## 5.- Programa en Python que lea 2 números enteros, usar una condición y analizar los dos números y desplegar cual de los números es el mayor.\n",
        "\n"
      ],
      "metadata": {
        "id": "H65JdsEmvW-K"
      }
    },
    {
      "cell_type": "code",
      "source": [
        "print(\"dime dos números enteros: \") \n",
        "num1 = int(input(\"numero 1: \"))\n",
        "num2 = int(input(\"numero 2: \")) \n",
        "if num1 > num2:\n",
        "    print(f\"el numero mayor es {num1}\") \n",
        "else:\n",
        "    print(f\"el numero mayor es {num2}\")"
      ],
      "metadata": {
        "colab": {
          "base_uri": "https://localhost:8080/"
        },
        "id": "O9lE-YHuvcOk",
        "outputId": "c3e389b3-8b02-4283-bb05-acfc44ad225a"
      },
      "execution_count": null,
      "outputs": [
        {
          "output_type": "stream",
          "name": "stdout",
          "text": [
            "dime dos números enteros: \n",
            "numero 1: 8\n",
            "numero 2: 9\n",
            "el numero mayor es 9\n"
          ]
        }
      ]
    },
    {
      "cell_type": "markdown",
      "source": [
        "## 6.- Programa en Python que lea 4 calificaciones de un alumno, calcular y desplegar el promedio acompañado de la leyenda APROBADO o REPROBADO\n",
        "\n"
      ],
      "metadata": {
        "id": "cVnYl6DFvkEs"
      }
    },
    {
      "cell_type": "code",
      "source": [
        "calif1 = int(input(\"dame tu calificacion:\")) \n",
        "calif2 = int(input(\"dame tu seunda calificacion:\")) \n",
        "calif3 = int(input(\"dame tu tercera calficacion:\")) \n",
        "calif4 = int(input(\"dame tu cuarta calificacin:\"))\n",
        "\n",
        "promedio = (calif1 + calif2 + calif3 + calif4) / 4 \n",
        "print(f\"tu promedio es: {promedio}\")\n",
        "if promedio >= 60:\n",
        "    print(\"APROBADO\") \n",
        "else:\n",
        "    print(\"REPROBADO\")"
      ],
      "metadata": {
        "colab": {
          "base_uri": "https://localhost:8080/"
        },
        "id": "gy550kvEvnlF",
        "outputId": "6628180c-bb69-4d10-8bd8-7f21a0022c6a"
      },
      "execution_count": null,
      "outputs": [
        {
          "output_type": "stream",
          "name": "stdout",
          "text": [
            "dame tu calificacion:55\n",
            "dame tu seunda calificacion:66\n",
            "dame tu tercera calficacion:77\n",
            "dame tu cuarta calificacin:44\n",
            "tu promedio es: 60.5\n",
            "APROBADO\n"
          ]
        }
      ]
    },
    {
      "cell_type": "markdown",
      "source": [
        "## 7.- Programa en Python que a través de opciones (1.- HOMBRE 2.- MUJER ) preguntar al usuario cual es su sexo y desplegar la leyenda “HOMBRE ”, “MUJER”\n",
        "\n"
      ],
      "metadata": {
        "id": "-haubJhPvwy2"
      }
    },
    {
      "cell_type": "code",
      "source": [
        "print(\"al es tu sexo?\") \n",
        "print(\"1.-Hombre\")\n",
        "print(\"2.-Mujer\")\n",
        "opcion1 = input(\"elija·entre (1 o 2):\")\n",
        "if opcion1 == \"1\":\n",
        "    print(\"usted es HOMBRE \") \n",
        "else:\n",
        "    print(\"usted es MUJER\")"
      ],
      "metadata": {
        "colab": {
          "base_uri": "https://localhost:8080/"
        },
        "id": "vaQs_blUv9C6",
        "outputId": "507e071c-e16f-40d5-eef2-f4c2480c9c93"
      },
      "execution_count": null,
      "outputs": [
        {
          "output_type": "stream",
          "name": "stdout",
          "text": [
            "al es tu sexo?\n",
            "1.-Hombre\n",
            "2.-Mujer\n",
            "elija·entre (1 o 2):1\n",
            "usted es HOMBRE \n"
          ]
        }
      ]
    },
    {
      "cell_type": "markdown",
      "source": [
        "## 8.- Programa en Python que lea un número entero, y desplegar si el número es “PAR” o “IMPAR”\n",
        "\n"
      ],
      "metadata": {
        "id": "sjDKLkLCwQqV"
      }
    },
    {
      "cell_type": "code",
      "source": [
        "num = float(input(\"dime un número entero: \"))\n",
        "residuo = num % 2\n",
        "if residuo == 0:\n",
        "    print(\"el numero que ingresaste es PAR\") \n",
        "else:\n",
        "    print(\"el numero que ingresaste es IMPAR\")\n"
      ],
      "metadata": {
        "colab": {
          "base_uri": "https://localhost:8080/"
        },
        "id": "nh2FAtI1wMtc",
        "outputId": "dd44a22f-64bd-487a-800b-a7254b9a88df"
      },
      "execution_count": null,
      "outputs": [
        {
          "output_type": "stream",
          "name": "stdout",
          "text": [
            "dime un número entero: 4\n",
            "el numero que ingresaste es PAR\n"
          ]
        }
      ]
    }
  ]
}