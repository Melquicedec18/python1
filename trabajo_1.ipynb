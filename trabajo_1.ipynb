{
  "nbformat": 4,
  "nbformat_minor": 0,
  "metadata": {
    "colab": {
      "provenance": [],
      "authorship_tag": "ABX9TyMuGtQn06eOS6n8XNPxneDO",
      "include_colab_link": true
    },
    "kernelspec": {
      "name": "python3",
      "display_name": "Python 3"
    },
    "language_info": {
      "name": "python"
    }
  },
  "cells": [
    {
      "cell_type": "markdown",
      "metadata": {
        "id": "view-in-github",
        "colab_type": "text"
      },
      "source": [
        "<a href=\"https://colab.research.google.com/github/Melquicedec18/python1/blob/main/trabajo_1.ipynb\" target=\"_parent\"><img src=\"https://colab.research.google.com/assets/colab-badge.svg\" alt=\"Open In Colab\"/></a>"
      ]
    },
    {
      "cell_type": "markdown",
      "source": [
        "Programa en Python Mostrar un mensaje que diga “HOLA MUNDO” en un solo renglón usando 2 print"
      ],
      "metadata": {
        "id": "HWikTpsgFU9v"
      }
    },
    {
      "cell_type": "code",
      "source": [
        "print (\"HOLA \", end=\" \")\n",
        "print (\"MUNDO\")"
      ],
      "metadata": {
        "colab": {
          "base_uri": "https://localhost:8080/",
          "height": 0
        },
        "id": "xgz6-eImFZQp",
        "outputId": "851af0cd-b5e5-4aee-fe61-96b60917a089"
      },
      "execution_count": 3,
      "outputs": [
        {
          "output_type": "stream",
          "name": "stdout",
          "text": [
            "HOLA  MUNDO\n"
          ]
        }
      ]
    },
    {
      "cell_type": "markdown",
      "source": [
        "2.- Programa en Python que lea 2 números, realizar la suma y desplegar la suma de los 2 números"
      ],
      "metadata": {
        "id": "urYIP45eGCs-"
      }
    },
    {
      "cell_type": "code",
      "source": [
        "num1 = 2\n",
        "num2 = 5\n",
        "suma = num1+num2\n",
        "print (\"la suma es=\", suma)"
      ],
      "metadata": {
        "colab": {
          "base_uri": "https://localhost:8080/",
          "height": 0
        },
        "id": "53FHlkDgGLgN",
        "outputId": "c54580ce-16b6-4639-9869-85b8e6bf682a"
      },
      "execution_count": 4,
      "outputs": [
        {
          "output_type": "stream",
          "name": "stdout",
          "text": [
            "la suma es= 7\n"
          ]
        }
      ]
    },
    {
      "cell_type": "markdown",
      "source": [
        "Programa en Python que lea 2 números y realice las 4 operaciones básicas"
      ],
      "metadata": {
        "id": "5Kb4uiT5Geys"
      }
    },
    {
      "cell_type": "code",
      "source": [
        "num1 = 3 \n",
        "num2 = 5\n",
        "suma = num1+num2\n",
        "resta = num1-num2\n",
        "division = num1/num2\n",
        "multiplicacion = num1*num2\n",
        "print (\"la sama es =\", suma)\n",
        "print (\"la resta es =\", resta)\n",
        "print (\"la division es =\", division)\n",
        "print (\"la multiplicacion es =\", multiplicacion)"
      ],
      "metadata": {
        "colab": {
          "base_uri": "https://localhost:8080/",
          "height": 0
        },
        "id": "4rgnEsyAGjKQ",
        "outputId": "b86515a6-9959-4ee0-9aa8-75c784bf7df8"
      },
      "execution_count": 6,
      "outputs": [
        {
          "output_type": "stream",
          "name": "stdout",
          "text": [
            "la sama es = 8\n",
            "la resta es = -2\n",
            "la division es = 0.6\n",
            "la multiplicacion es = 15\n"
          ]
        }
      ]
    },
    {
      "cell_type": "markdown",
      "source": [
        "Programa en Python Que sirva para calcular el área de un triángulo"
      ],
      "metadata": {
        "id": "AA_R-C13HaEv"
      }
    },
    {
      "cell_type": "code",
      "source": [
        "base = 4\n",
        "altura = 8\n",
        "area = (base*altura)/2\n",
        "print(\"el area es = \", area)"
      ],
      "metadata": {
        "colab": {
          "base_uri": "https://localhost:8080/",
          "height": 0
        },
        "id": "8OErVIHXHmuH",
        "outputId": "1f5b7b33-fe86-4d6d-adbf-1ee0b9bc349f"
      },
      "execution_count": 8,
      "outputs": [
        {
          "output_type": "stream",
          "name": "stdout",
          "text": [
            "el area es =  16.0\n"
          ]
        }
      ]
    },
    {
      "cell_type": "markdown",
      "source": [
        "Programa en Python que lea una medida en centímetros y desplegar la misma medida pero convertida en pies y pulgadas"
      ],
      "metadata": {
        "id": "nSFtcZ_iIPmi"
      }
    },
    {
      "cell_type": "code",
      "source": [
        "centimetros = 10\n",
        "pies = centimetros*0.0328084\n",
        "pugadas = centimetros*0.393701\n",
        "print(\"de centimetros a pies son =\", pies)\n",
        "print(\"de centimetros a puladas son =\", pugadas)"
      ],
      "metadata": {
        "colab": {
          "base_uri": "https://localhost:8080/",
          "height": 0
        },
        "id": "GZQ0xmC7IXdO",
        "outputId": "006e5bb9-ce68-4d51-bf55-bed046c01f8f"
      },
      "execution_count": 10,
      "outputs": [
        {
          "output_type": "stream",
          "name": "stdout",
          "text": [
            "de centimetros a pies son = 0.32808400000000004\n",
            "de centimetros a puladas son = 3.9370100000000003\n"
          ]
        }
      ]
    },
    {
      "cell_type": "markdown",
      "source": [
        "Programa en Python que lea una temperatura en grados centígrados y desplegarla en Grados Fahrenheit y grados kelvin"
      ],
      "metadata": {
        "id": "lgIWCjZ1JNYh"
      }
    },
    {
      "cell_type": "code",
      "source": [
        "centigrados = 20\n",
        "fahrenheit = (centigrados*9/5) + 32\n",
        "kelvin = centigrados + 273.15 \n",
        "print (\"de grados centigrados a fahrenheit son = \", fahrenheit)\n",
        "print (\"de grados centigrados a kelvin son = \", kelvin)"
      ],
      "metadata": {
        "colab": {
          "base_uri": "https://localhost:8080/"
        },
        "id": "hBJdtSMaJVfI",
        "outputId": "f0794bda-2c6b-474e-c53f-1ccb680d4786"
      },
      "execution_count": 14,
      "outputs": [
        {
          "output_type": "stream",
          "name": "stdout",
          "text": [
            "de grados centigrados a fahrenheit son =  68.0\n",
            "de grados centigrados a kelvin son =  293.15\n"
          ]
        }
      ]
    },
    {
      "cell_type": "markdown",
      "source": [
        " Programa en Python que lea 4 calificaciones de un alumno, desplegar el promedio del alumno"
      ],
      "metadata": {
        "id": "Sue_mJkwK47V"
      }
    },
    {
      "cell_type": "code",
      "source": [
        "cal1 = 100\n",
        "cal2 = 95\n",
        "cal3 = 80\n",
        "cal4 = 100\n",
        "cal_final = (cal1+cal2+cal3+cal4)/4\n",
        "print (\"la calificacin final es = \", cal_final)"
      ],
      "metadata": {
        "colab": {
          "base_uri": "https://localhost:8080/"
        },
        "id": "vqnNtaUuK9Ta",
        "outputId": "a165f6f7-7eba-473c-df8e-5695a45a9389"
      },
      "execution_count": 15,
      "outputs": [
        {
          "output_type": "stream",
          "name": "stdout",
          "text": [
            "la calificacin final es =  93.75\n"
          ]
        }
      ]
    }
  ]
}