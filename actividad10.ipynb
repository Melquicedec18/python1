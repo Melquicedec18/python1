{
  "nbformat": 4,
  "nbformat_minor": 0,
  "metadata": {
    "colab": {
      "provenance": [],
      "authorship_tag": "ABX9TyNZpwYrbks8HT6VjKdMICMd",
      "include_colab_link": true
    },
    "kernelspec": {
      "name": "python3",
      "display_name": "Python 3"
    },
    "language_info": {
      "name": "python"
    }
  },
  "cells": [
    {
      "cell_type": "markdown",
      "metadata": {
        "id": "view-in-github",
        "colab_type": "text"
      },
      "source": [
        "<a href=\"https://colab.research.google.com/github/Melquicedec18/python1/blob/main/actividad10.ipynb\" target=\"_parent\"><img src=\"https://colab.research.google.com/assets/colab-badge.svg\" alt=\"Open In Colab\"/></a>"
      ]
    },
    {
      "cell_type": "code",
      "execution_count": 26,
      "metadata": {
        "id": "e7_sh9uM8rhy"
      },
      "outputs": [],
      "source": [
        "#!pip install kora -q\n",
        "#!pip install pyyaml\n",
        "from IPython.display import clear_output\n",
        "import random\n",
        "import json\n",
        "import yaml\n",
        "import pandas as pd"
      ]
    },
    {
      "cell_type": "code",
      "source": [
        "def valinum_int(msge,msgError2=\"INGRESA UN VALOR NUMERICO ENTERO\"):\n",
        "    while True:\n",
        "        try:\n",
        "            num = int(input(f\"{msge}\"))\n",
        "        except:\n",
        "            print (msgError2)\n",
        "            continue\n",
        "        else:\n",
        "            break\n",
        "    return num"
      ],
      "metadata": {
        "id": "_jrjs33--nN8"
      },
      "execution_count": 27,
      "outputs": []
    },
    {
      "cell_type": "code",
      "source": [
        "def agregar_aut(lista_dic):\n",
        "    clear_output()\n",
        "    registro = [\"ID\",\"Nombre\",\"Ap.Paterno\",\"Ap.Materno\",\"Puesto\",\"Sexo\"]\n",
        "    nombre_h=[\"Pedro\",\"Melquicedec\", \"Juan\",\"Roberto\",\"Luis\",\"Abraham\",\"Walter\"]\n",
        "    nombre_m=[\"Luisa\",\"Lupe\",\"Maria\",\"Julia\",\"Aba\",\"Dianna\",\"Ana\"]\n",
        "    appaterno=[\"Mena\",\"Arredondo\",\"Perez\",\"Marquez\",\"Siqueiros\",\"Ordeño\"]\n",
        "    apmaterno=[\"Ontiveros\",\"Luias\",\"Quintero\",\"Zeta\",\"Jarquin\"]\n",
        "    puesto=[\"Supervisor\",\"Encargad@\",\"Conserje\",\"Gerente\",\"Guardia\",\"Empleado Gral\",\"Jefe\"]\n",
        "    sexo=[\"H\",\"M\"]\n",
        "    while True: \n",
        "        lista_datos=[]\n",
        "        repetido = False\n",
        "        while repetido == False:\n",
        "            clear_output()\n",
        "            id = random.randint(1, 40)\n",
        "            repetido = verificar_id(lista_dic,id)\n",
        "        lista_datos.append(id)\n",
        "        h_o_m =random.randint(1,2)\n",
        "        if h_o_m == 1:\n",
        "            cant_nom = random.randint(1,2)\n",
        "            if cant_nom == 1:\n",
        "                lista_datos.append(random.choice(nombre_h))\n",
        "            else:\n",
        "                nombre = f\"{random.choice(nombre_h)} {random.choice(nombre_h)}\"\n",
        "                lista_datos.append(nombre)\n",
        "        else:\n",
        "            cant_nom = random.randint(1,2)\n",
        "            if cant_nom == 1:\n",
        "                lista_datos.append(random.choice(nombre_m))\n",
        "            else:\n",
        "                nombre = f\"{random.choice(nombre_m)} {random.choice(nombre_m)}\"\n",
        "                lista_datos.append(nombre)\n",
        "        lista_datos.append(random.choice(appaterno))\n",
        "        lista_datos.append(random.choice(apmaterno))\n",
        "        lista_datos.append(random.choice(puesto))\n",
        "        if h_o_m == 1:\n",
        "            lista_datos.append(sexo[0])\n",
        "        else:\n",
        "            lista_datos.append(sexo[1])\n",
        "        dic = dict(zip(registro,lista_datos))\n",
        "        lista_dic.append(dic)\n",
        "        print(\"Se agrego correctamente el registro\")\n",
        "        op = valinum_int(\"Deseas agregar otro registro?[1.-Si 2.-No]: \")\n",
        "        if op == 2:\n",
        "            break"
      ],
      "metadata": {
        "id": "5rQyrVNi8vIo"
      },
      "execution_count": 28,
      "outputs": []
    },
    {
      "cell_type": "code",
      "source": [
        "def agregar_man(lista_dic):\n",
        "    clear_output()\n",
        "    registro = [\"ID\",\"Nombre\",\"Ap.Paterno\",\"Ap.Materno\",\"Puesto\",\"Sexo\"]\n",
        "    while True:\n",
        "        repetido = False\n",
        "        lista_datos = []\n",
        "        while repetido == False:\n",
        "            id = valinum_int(\"Ingresa tu ID: \",300000,400000)\n",
        "            repetido = verificar_id(lista_dic,id)\n",
        "        lista_datos.append(id)\n",
        "        nom = input(\"Ingresa tu Nombre: \")\n",
        "        lista_datos.append(nom)\n",
        "        appat = input(\"Ingresa tu Apellido Paterno: \")\n",
        "        lista_datos.append(appat)\n",
        "        apmat = input(\"Ingresa tu Apellido Materno: \")\n",
        "        lista_datos.append(apmat)\n",
        "        puest = input(\"Ingresa el Puesto que desempeñas: \")\n",
        "        lista_datos.append(puest)\n",
        "        sex = input(\"Ingresa tu Sexo[H o M]: \")\n",
        "        lista_datos.append(sex)\n",
        "        dic = dict(zip(registro,lista_datos))\n",
        "        lista_dic.append(dic)\n",
        "        print(\"Se agrego correctamente el registro\")\n",
        "        op = valinum_int(\"Deseas agregar otro registro?[1.-Si 2.-No]: \",1,2)\n",
        "        if op == 2:\n",
        "            break\n",
        "     "
      ],
      "metadata": {
        "id": "L1aYXHxx8x5X"
      },
      "execution_count": 29,
      "outputs": []
    },
    {
      "cell_type": "code",
      "source": [
        "def imprimir(lista_dic,check_ord):\n",
        "    clear_output()\n",
        "    op = random.randint(1,3)\n",
        "    if check_ord == 1:\n",
        "        lista_ord = sorted(lista_dic, key=lambda x: x[\"ID\"])\n",
        "        if op == 1:\n",
        "            print(yaml.dump(lista_ord,sort_keys=False,default_flow_style=False))\n",
        "        elif op == 2:\n",
        "            print(json.dumps(lista_ord, sort_keys=False, indent=2))\n",
        "        elif op == 3:\n",
        "            salida=pd.DataFrame(lista_ord)\n",
        "            print(salida)\n",
        "    else:\n",
        "        if op == 1:\n",
        "            print(yaml.dump(lista_dic,sort_keys=False,default_flow_style=False))\n",
        "        elif op == 2:\n",
        "            print(json.dumps(lista_dic, sort_keys=False, indent=2))\n",
        "        elif op == 3:\n",
        "            salida=pd.DataFrame(lista_dic)\n",
        "            print(salida)\n",
        "     "
      ],
      "metadata": {
        "id": "P4PjBCFI80r2"
      },
      "execution_count": 30,
      "outputs": []
    },
    {
      "cell_type": "code",
      "source": [
        "\n",
        "def buscar(lista_dic):\n",
        "    clear_output()\n",
        "    dic_encontrado = []\n",
        "    encontrado = False\n",
        "    id_busq = valinum_int(\"Ingresa el ID de la persona que buscas: \",1, 40)\n",
        "    for diccionario in lista_dic:\n",
        "        if diccionario.get(\"ID\") == id_busq:\n",
        "            print(f\"Se encontro un registro con el ID: {id_busq}\")\n",
        "            dic_encontrado.append(diccionario)\n",
        "            salida=pd.DataFrame(dic_encontrado)\n",
        "            print(salida)\n",
        "            encontrado = True\n",
        "    if not encontrado:\n",
        "        print(f\"No se encontro ningun registro con el ID {id_busq}\")"
      ],
      "metadata": {
        "id": "Q_0TwwW-820O"
      },
      "execution_count": 31,
      "outputs": []
    },
    {
      "cell_type": "code",
      "source": [
        "def ordenar_dic(lista_dic,check_ord):\n",
        "    clear_output()\n",
        "    if check_ord == 1:\n",
        "        print(\"La lista ya se encuentra ordenada\")\n",
        "    else:\n",
        "        print(\"Se ordeno la lista\")\n",
        "        return 1"
      ],
      "metadata": {
        "id": "jqs4XHse85JZ"
      },
      "execution_count": 32,
      "outputs": []
    },
    {
      "cell_type": "code",
      "source": [
        "\n",
        "def eliminar(lista_dic):\n",
        "    clear_output()\n",
        "    encontrado = False\n",
        "    id_eliminar = valinum_int(\"Ingresa el ID de la persona que deseas eliminar el registro: \")\n",
        "    for i, diccionario in enumerate(lista_dic):\n",
        "        if diccionario.get(\"ID\") == id_eliminar:\n",
        "            print(f\"Se elimino a la persona con el ID: {id_eliminar}\")\n",
        "            del lista_dic[i]\n",
        "            encontrado = True\n",
        "    if not encontrado:\n",
        "        print(f\"No se encontro ningun registro con el ID {id_eliminar}\")"
      ],
      "metadata": {
        "id": "Q9T0r3Ex87jU"
      },
      "execution_count": 33,
      "outputs": []
    },
    {
      "cell_type": "code",
      "source": [
        "def verificar_id(lista_dic,id):\n",
        "    for diccionario in lista_dic:\n",
        "        if diccionario.get(\"ID\") == id:\n",
        "            print(\"Ya existe un registro con ese ID, prueba otro\")\n",
        "            return False\n",
        "    return True"
      ],
      "metadata": {
        "id": "F9dKV6CW8_A0"
      },
      "execution_count": 34,
      "outputs": []
    },
    {
      "cell_type": "code",
      "source": [
        "def menu():\n",
        "    print(\"MENU:\")\n",
        "    print(\"1.-AGREGAR DATOS (AUTOMATICO)\")\n",
        "    print(\"2.-AGREGAR DATOS (MANUAL)\")\n",
        "    print(\"3.-IMPRIMIR DATOS\")\n",
        "    print(\"4.-BUSCAR\")\n",
        "    print(\"5.-ORDENAR\")\n",
        "    print(\"6.-ELIMINAR\")\n",
        "    print(\"7.-BORRAR TODA LA LISTA\")\n",
        "    print(\"0.-SALIR\")\n"
      ],
      "metadata": {
        "id": "qly6UNQO9BaF"
      },
      "execution_count": 35,
      "outputs": []
    },
    {
      "cell_type": "code",
      "source": [
        "lista_dic =[]\n",
        "check_ord = 0\n",
        "while True:\n",
        "    menu()\n",
        "    op = valinum_int(\"Ingresa la funcion que deseas utilizar: \")\n",
        "    if op == 1:\n",
        "        agregar_aut(lista_dic)\n",
        "        check_ord = 0\n",
        "        input(\"Presiona ENTER para borrar la pantalla\")\n",
        "        clear_output()\n",
        "        continue\n",
        "    elif op == 2:\n",
        "        agregar_man(lista_dic)\n",
        "        check_ord = 0\n",
        "        input(\"Presiona ENTER para borrar la pantalla\")\n",
        "        clear_output()\n",
        "        continue\n",
        "    elif op == 3:\n",
        "        imprimir(lista_dic,check_ord)\n",
        "        input(\"Presiona ENTER para borrar la pantalla\")\n",
        "        clear_output()\n",
        "        continue\n",
        "    elif op == 4:\n",
        "        buscar(lista_dic)\n",
        "        input(\"Presiona ENTER para borrar la pantalla\")\n",
        "        clear_output()\n",
        "        continue\n",
        "    elif op == 5:\n",
        "        check_ord = ordenar_dic(lista_dic,check_ord)\n",
        "        input(\"Presiona ENTER para borrar la pantalla\")\n",
        "        clear_output()\n",
        "        continue\n",
        "    elif op == 6:\n",
        "        eliminar(lista_dic)\n",
        "        input(\"Presiona ENTER para borrar la pantalla\")\n",
        "        clear_output()\n",
        "        continue\n",
        "    elif op == 7:\n",
        "        lista_dic = []\n",
        "    elif op == 0:\n",
        "        break"
      ],
      "metadata": {
        "colab": {
          "base_uri": "https://localhost:8080/",
          "height": 0
        },
        "id": "yYWPDtyW9Ga5",
        "outputId": "9509ab34-03bc-432c-d084-8e7d2845b624"
      },
      "execution_count": 36,
      "outputs": [
        {
          "name": "stdout",
          "output_type": "stream",
          "text": [
            "MENU:\n",
            "1.-AGREGAR DATOS (AUTOMATICO)\n",
            "2.-AGREGAR DATOS (MANUAL)\n",
            "3.-IMPRIMIR DATOS\n",
            "4.-BUSCAR\n",
            "5.-ORDENAR\n",
            "6.-ELIMINAR\n",
            "7.-BORRAR TODA LA LISTA\n",
            "0.-SALIR\n",
            "Ingresa la funcion que deseas utilizar: 0\n"
          ]
        }
      ]
    }
  ]
}