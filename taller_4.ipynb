{
  "nbformat": 4,
  "nbformat_minor": 0,
  "metadata": {
    "colab": {
      "provenance": [],
      "authorship_tag": "ABX9TyOVo6oouf9fohSCcZ8hFpwR",
      "include_colab_link": true
    },
    "kernelspec": {
      "name": "python3",
      "display_name": "Python 3"
    },
    "language_info": {
      "name": "python"
    }
  },
  "cells": [
    {
      "cell_type": "markdown",
      "metadata": {
        "id": "view-in-github",
        "colab_type": "text"
      },
      "source": [
        "<a href=\"https://colab.research.google.com/github/Melquicedec18/python1/blob/main/taller_4.ipynb\" target=\"_parent\"><img src=\"https://colab.research.google.com/assets/colab-badge.svg\" alt=\"Open In Colab\"/></a>"
      ]
    },
    {
      "cell_type": "markdown",
      "source": [
        "# Melquicedec Luis Vicente\n",
        "# matricula: 369883\n",
        "# actividad 4\n"
      ],
      "metadata": {
        "id": "_tTuRRc3AiP2"
      }
    },
    {
      "cell_type": "markdown",
      "source": [
        "# REALIZA LOS SIGUIENTES EJERCICIOS USANDO LA FORMA ADECUADA Y USANDO try Except NO DEBERA FALLAR EL PROGRAMA."
      ],
      "metadata": {
        "id": "Idu52HuAAgAG"
      }
    },
    {
      "cell_type": "markdown",
      "source": [
        "## 1.-Programa en python   que lea 3 calificaciones calcule el promedio del alumno y desplegar: \n",
        "\n",
        "Si prom < 30 Repetir \n",
        "\n",
        "Si prom >=30 y prom <60 extraordinario \n",
        "\n",
        "Si prom >=60 y prom <70 suficiente \n",
        "\n",
        "Si prom >=70 y prom <80 Regular \n",
        "\n",
        "Si prom >=80 y prom <90 bien \n",
        "\n",
        "Si prom >=90 y prom <98 muy bien \n",
        "\n",
        "Si prom >=98 y prom <=100 excelente \n",
        "\n",
        "Si prom >100 Error en promedio "
      ],
      "metadata": {
        "id": "07BtOmrBBC5N"
      }
    },
    {
      "cell_type": "code",
      "execution_count": 19,
      "metadata": {
        "colab": {
          "base_uri": "https://localhost:8080/"
        },
        "id": "H8uNFtRO5Z9F",
        "outputId": "23ced85d-8293-4b15-d9a2-c3bba4130d37"
      },
      "outputs": [
        {
          "output_type": "stream",
          "name": "stdout",
          "text": [
            "dame la primera calificacion90\n",
            "dame la segunda calificacion0\n",
            "dame la tercera calificacion90\n",
            "las calificacion final es= 60.0\n",
            "SUFICIENTE\n"
          ]
        }
      ],
      "source": [
        "try:\n",
        "    cal1 = int(input(\"dame la primera calificacion\"))\n",
        "    cal2 = int(input(\"dame la segunda calificacion\"))\n",
        "    cal3 = int(input(\"dame la tercera calificacion\"))\n",
        "\n",
        "    prom = (cal1 + cal2 + cal3) / 3\n",
        "    print(\"las calificacion final es=\", prom)\n",
        "\n",
        "    if prom<30:\n",
        "        print(\"REPETIR\")\n",
        "    elif prom>=30 and prom<60:\n",
        "        print(\"EXTRAORDINARIO\")\n",
        "    elif prom>=60 and prom<70:\n",
        "        print(\"SUFICIENTE\")\n",
        "    elif prom>=70 and prom<80:\n",
        "        print(\"REGULAR\")\n",
        "    elif prom>=80 and prom<90:\n",
        "        print(\"BIEN\")\n",
        "    elif prom>=90 and prom<98:\n",
        "        print(\"MUY BIEN\")\n",
        "    elif prom>=98 and prom<=100:\n",
        "       print(\"EXCELENTE\")\n",
        "    else:\n",
        "        print(\"ERROR EN PROMEDIO\")\n",
        "except:\n",
        "    print(\"ERROR: las calificaciones deben ser enteros\")\n"
      ]
    },
    {
      "cell_type": "markdown",
      "source": [
        "## 2.- Programa en Python que sirva para calcular el salario semanal de un trabajador donde se obtiene como dato de entrada las horas semanales trabajadas, el salario por hora. \n",
        "\n",
        "El programa deberá calcular el salario normal, salario extra y salario total, considerando lo siguiente: \n",
        "\n",
        "Jornada Normal de 40 horas. \n",
        "El salario normal se considera las horas trabajadas menores o igual a la jornada normal\n",
        "Salario extra se considera las horas trabajadas mayores a la jornada normal y se pagan dobles las primeras 9 y triples a partir de la décima hora extra "
      ],
      "metadata": {
        "id": "A5QPsLEyI8QL"
      }
    },
    {
      "cell_type": "code",
      "source": [],
      "metadata": {
        "id": "saCN73p-JTMD"
      },
      "execution_count": null,
      "outputs": []
    }
  ]
}