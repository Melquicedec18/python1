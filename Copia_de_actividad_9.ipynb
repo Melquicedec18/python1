{
  "nbformat": 4,
  "nbformat_minor": 0,
  "metadata": {
    "colab": {
      "provenance": [],
      "authorship_tag": "ABX9TyMVLh3nbK28gfWEAlSYHfsk",
      "include_colab_link": true
    },
    "kernelspec": {
      "name": "python3",
      "display_name": "Python 3"
    },
    "language_info": {
      "name": "python"
    }
  },
  "cells": [
    {
      "cell_type": "markdown",
      "metadata": {
        "id": "view-in-github",
        "colab_type": "text"
      },
      "source": [
        "<a href=\"https://colab.research.google.com/github/Melquicedec18/python1/blob/main/Copia_de_actividad_9.ipynb\" target=\"_parent\"><img src=\"https://colab.research.google.com/assets/colab-badge.svg\" alt=\"Open In Colab\"/></a>"
      ]
    },
    {
      "cell_type": "code",
      "execution_count": 6,
      "metadata": {
        "id": "slZyYkc_Zh6w"
      },
      "outputs": [],
      "source": [
        "import random"
      ]
    },
    {
      "cell_type": "code",
      "source": [
        "nombres1 = [\"Carlos\", \"Estephany\", \"Karen\", \"Juaquin\", \"Raul\", \"Fabian\", \"Juan\", \"Emanuel\", \"Pedro\", \"Melquicedec\"]\n",
        "nombres2 = [\"Franciasca\", \"valentina\", \"Daniela\", \"Zulay\", \"Gabriela\", \"Rafaela\", \"Mariana\", \"Josefa\", \"Britany\", \"Ponpella\"]\n",
        "appaternos = [\"Hernandez\", \"Rodriguez\", \"Samir\", \"Lopez\", \"Diaz\", \"Castro\", \"Hidalgo\", \"Mejias\", \"Rojas\", \"Torres\"]\n",
        "apmaternos = [\"Pérez\", \"Sánchez\", \"Gómez\", \"Flores\", \"Díaz\"]\n",
        "edades = range(18, 30)\n",
        "sexos = [\"Hombre\", \"Mujer\"]"
      ],
      "metadata": {
        "id": "iVam3MRlZmYx"
      },
      "execution_count": 7,
      "outputs": []
    },
    {
      "cell_type": "code",
      "source": [
        "def generar_diccionario():\n",
        "   alumnos = {}\n",
        "   sexo = random.choice(sexos)\n",
        "   if sexo == \"Hombre\":\n",
        "        nombre = random.choice(nombres1)\n",
        "   else:\n",
        "        nombre = random.choice(nombres2)\n",
        "   id = random.randint(300000, 399999)\n",
        "   appaterno = random.choice(appaternos)\n",
        "   apmaterno = random.choice(apmaternos)\n",
        "   edad = random.choice(edades)\n",
        "   return {\"id\": id, \"nombre\": nombre, \"appaterno\": appaterno, \"apmaterno\": apmaterno, \"edad\": edad, \"sexo\": sexo}"
      ],
      "metadata": {
        "id": "1pRB9bWYZwcw"
      },
      "execution_count": 8,
      "outputs": []
    },
    {
      "cell_type": "code",
      "source": [
        "def imprimir_diccionario(alumno):\n",
        "    print(f\"ID: {alumno['id']}\")\n",
        "    print(f\"Nombre: {alumno['nombre']} {alumno['appaterno']} {alumno['apmaterno']}\")\n",
        "    print(f\"Edad: {alumno['edad']}\")\n",
        "    print(f\"Sexo: {alumno['sexo']}\")"
      ],
      "metadata": {
        "id": "8vb1osTqZ-LB"
      },
      "execution_count": 9,
      "outputs": []
    },
    {
      "cell_type": "code",
      "source": [
        "\n",
        "alumnos = []\n",
        "while True:\n",
        "    print(\"MENU\\n\")\n",
        "    print(\"1.- Crear Diccionario\")\n",
        "    print(\"2.- Imprimir Diccionario\")\n",
        "    print(\"0.- Salir\\n\")\n",
        "    opcion = int(input(\"Ingrese la opción deseada: \"))\n",
        "    print()\n",
        "    if opcion == 1:\n",
        "        alumno = generar_diccionario()\n",
        "        alumnos.append(alumno)\n",
        "        print(\"Diccionario creado\\n\")\n",
        "    elif opcion == 2:\n",
        "        if len(alumnos) == 0:\n",
        "            print(\"No hay diccionarios para imprimir\\n\")\n",
        "        else:\n",
        "            for alumno in alumnos:\n",
        "                imprimir_diccionario(alumno)\n",
        "                print()\n",
        "    elif opcion == 0:\n",
        "        print(\"Saliendo del programa...\")\n",
        "        break\n",
        "    else:\n",
        "        print(\"Opción inválida. Por favor ingrese una opción válida.\\n\")"
      ],
      "metadata": {
        "id": "2NAaEazVZ_9I",
        "colab": {
          "base_uri": "https://localhost:8080/"
        },
        "outputId": "26676c31-efbc-456a-f6bd-acce2c8883df"
      },
      "execution_count": null,
      "outputs": [
        {
          "output_type": "stream",
          "name": "stdout",
          "text": [
            "MENU\n",
            "\n",
            "1.- Crear Diccionario\n",
            "2.- Imprimir Diccionario\n",
            "0.- Salir\n",
            "\n",
            "Ingrese la opción deseada: 1\n",
            "\n",
            "Diccionario creado\n",
            "\n",
            "MENU\n",
            "\n",
            "1.- Crear Diccionario\n",
            "2.- Imprimir Diccionario\n",
            "0.- Salir\n",
            "\n",
            "Ingrese la opción deseada: 2\n",
            "\n",
            "ID: 383198\n",
            "Nombre: Juan Rodriguez Gómez\n",
            "Edad: 27\n",
            "Sexo: Hombre\n",
            "\n",
            "MENU\n",
            "\n",
            "1.- Crear Diccionario\n",
            "2.- Imprimir Diccionario\n",
            "0.- Salir\n",
            "\n",
            "Ingrese la opción deseada: 1\n",
            "\n",
            "Diccionario creado\n",
            "\n",
            "MENU\n",
            "\n",
            "1.- Crear Diccionario\n",
            "2.- Imprimir Diccionario\n",
            "0.- Salir\n",
            "\n",
            "Ingrese la opción deseada: 2\n",
            "\n",
            "ID: 383198\n",
            "Nombre: Juan Rodriguez Gómez\n",
            "Edad: 27\n",
            "Sexo: Hombre\n",
            "\n",
            "ID: 331861\n",
            "Nombre: Juaquin Mejias Sánchez\n",
            "Edad: 22\n",
            "Sexo: Hombre\n",
            "\n",
            "MENU\n",
            "\n",
            "1.- Crear Diccionario\n",
            "2.- Imprimir Diccionario\n",
            "0.- Salir\n",
            "\n",
            "Ingrese la opción deseada: 1\n",
            "\n",
            "Diccionario creado\n",
            "\n",
            "MENU\n",
            "\n",
            "1.- Crear Diccionario\n",
            "2.- Imprimir Diccionario\n",
            "0.- Salir\n",
            "\n",
            "Ingrese la opción deseada: 2\n",
            "\n",
            "ID: 383198\n",
            "Nombre: Juan Rodriguez Gómez\n",
            "Edad: 27\n",
            "Sexo: Hombre\n",
            "\n",
            "ID: 331861\n",
            "Nombre: Juaquin Mejias Sánchez\n",
            "Edad: 22\n",
            "Sexo: Hombre\n",
            "\n",
            "ID: 346499\n",
            "Nombre: Raul Mejias Sánchez\n",
            "Edad: 23\n",
            "Sexo: Hombre\n",
            "\n",
            "MENU\n",
            "\n",
            "1.- Crear Diccionario\n",
            "2.- Imprimir Diccionario\n",
            "0.- Salir\n",
            "\n",
            "Ingrese la opción deseada: 1\n",
            "\n",
            "Diccionario creado\n",
            "\n",
            "MENU\n",
            "\n",
            "1.- Crear Diccionario\n",
            "2.- Imprimir Diccionario\n",
            "0.- Salir\n",
            "\n",
            "Ingrese la opción deseada: 2\n",
            "\n",
            "ID: 383198\n",
            "Nombre: Juan Rodriguez Gómez\n",
            "Edad: 27\n",
            "Sexo: Hombre\n",
            "\n",
            "ID: 331861\n",
            "Nombre: Juaquin Mejias Sánchez\n",
            "Edad: 22\n",
            "Sexo: Hombre\n",
            "\n",
            "ID: 346499\n",
            "Nombre: Raul Mejias Sánchez\n",
            "Edad: 23\n",
            "Sexo: Hombre\n",
            "\n",
            "ID: 386909\n",
            "Nombre: Daniela Hernandez Flores\n",
            "Edad: 20\n",
            "Sexo: Mujer\n",
            "\n",
            "MENU\n",
            "\n",
            "1.- Crear Diccionario\n",
            "2.- Imprimir Diccionario\n",
            "0.- Salir\n",
            "\n"
          ]
        }
      ]
    }
  ]
}