{
  "nbformat": 4,
  "nbformat_minor": 0,
  "metadata": {
    "colab": {
      "provenance": [],
      "toc_visible": true,
      "authorship_tag": "ABX9TyMFYAwtcDumGJ8DWUAwJHY7",
      "include_colab_link": true
    },
    "kernelspec": {
      "name": "python3",
      "display_name": "Python 3"
    },
    "language_info": {
      "name": "python"
    }
  },
  "cells": [
    {
      "cell_type": "markdown",
      "metadata": {
        "id": "view-in-github",
        "colab_type": "text"
      },
      "source": [
        "<a href=\"https://colab.research.google.com/github/Melquicedec18/python1/blob/main/actividad12.ipynb\" target=\"_parent\"><img src=\"https://colab.research.google.com/assets/colab-badge.svg\" alt=\"Open In Colab\"/></a>"
      ]
    },
    {
      "cell_type": "code",
      "execution_count": 7,
      "metadata": {
        "colab": {
          "base_uri": "https://localhost:8080/"
        },
        "id": "2nBfYWNiQlcE",
        "outputId": "947e2f40-dcde-4c67-dae0-06482770bd3e"
      },
      "outputs": [
        {
          "output_type": "stream",
          "name": "stdout",
          "text": [
            "Looking in indexes: https://pypi.org/simple, https://us-python.pkg.dev/colab-wheels/public/simple/\n",
            "Requirement already satisfied: pyyaml in /usr/local/lib/python3.10/dist-packages (6.0)\n"
          ]
        }
      ],
      "source": [
        "!pip install pyyaml"
      ]
    },
    {
      "cell_type": "code",
      "source": [
        "from IPython.display import clear_output\n",
        "import random\n",
        "import json\n",
        "import yaml\n",
        "import time\n",
        "import pandas as pd\n",
        "import os\n",
        "import difflib"
      ],
      "metadata": {
        "id": "FQk3OQFMQwjX"
      },
      "execution_count": 8,
      "outputs": []
    },
    {
      "cell_type": "code",
      "source": [
        "from google.colab import drive\n",
        "drive.mount('/content/drive')"
      ],
      "metadata": {
        "colab": {
          "base_uri": "https://localhost:8080/"
        },
        "id": "X0KMbFxJQ7xH",
        "outputId": "d45e46f4-0351-40e2-e464-3ad9ff956fb9"
      },
      "execution_count": 9,
      "outputs": [
        {
          "output_type": "stream",
          "name": "stdout",
          "text": [
            "Drive already mounted at /content/drive; to attempt to forcibly remount, call drive.mount(\"/content/drive\", force_remount=True).\n"
          ]
        }
      ]
    },
    {
      "cell_type": "code",
      "source": [
        "ruta=\"/content/drive/MyDrive/act11\""
      ],
      "metadata": {
        "id": "q9nXct8NRExw"
      },
      "execution_count": 10,
      "outputs": []
    },
    {
      "cell_type": "code",
      "source": [
        "import sys\n",
        "sys.path.append(ruta)"
      ],
      "metadata": {
        "id": "spSTQJpgRKWp"
      },
      "execution_count": 11,
      "outputs": []
    },
    {
      "cell_type": "code",
      "source": [
        "def valinum_int(msge, msgError2=\"Ingresa un valor numérico entero.\"):\n",
        "    while True:\n",
        "        try:\n",
        "            num = int(input(f\"{msge}\"))\n",
        "        except:\n",
        "            print (msgError2)\n",
        "            continue\n",
        "        else:\n",
        "            break\n",
        "    return num"
      ],
      "metadata": {
        "id": "6xmXUf3vSOG6"
      },
      "execution_count": 12,
      "outputs": []
    },
    {
      "cell_type": "code",
      "source": [
        "def verificar_id(lista_dic,id):\n",
        "    for diccionario in lista_dic:\n",
        "        if diccionario.get(\"ID\") == id:\n",
        "            print(\"Ya existe un registro con ese ID, prueba otro\")\n",
        "            return False\n",
        "    return True\n",
        "     "
      ],
      "metadata": {
        "id": "8gW97eBy7pVJ"
      },
      "execution_count": 13,
      "outputs": []
    },
    {
      "cell_type": "code",
      "source": [
        "registro = [\"ID\",\"Nombre\",\"Ap.Paterno\",\"Ap.Materno\",\"Puesto\",\"Sexo\"]\n",
        "nombre_h=[\"Pedro\",\"Melquicedec\", \"Juan\",\"Roberto\",\"Luis\",\"Abraham\",\"Walter\"]\n",
        "nombre_m=[\"Luisa\",\"Lupe\",\"Maria\",\"Julia\",\"Alba\",\"Dianna\",\"Ana\"]\n",
        "appaterno=[\"Mena\",\"Arredondo\",\"Perez\",\"Marquez\",\"Siqueiros\",\"Ordeño\"]\n",
        "apmaterno=[\"Ontiveros\",\"Luias\",\"Quintero\",\"Zeta\",\"Jarquin\"]\n",
        "puesto=[\"Supervisor\",\"Encargad@\",\"Conserje\",\"Gerente\",\"Guardia\",\"Jefe\"]\n",
        "sexo=[\"H\",\"M\"]"
      ],
      "metadata": {
        "id": "63XYzF7fRYBv"
      },
      "execution_count": 14,
      "outputs": []
    },
    {
      "cell_type": "code",
      "source": [
        "def agregar_aut(lista_dic):\n",
        "  clear_output()\n",
        "  while True: \n",
        "      lista_datos=[]\n",
        "      repetido = False\n",
        "      while repetido == False:\n",
        "          clear_output()\n",
        "          id = random.randint(1, 40)\n",
        "          repetido = verificar_id(lista_dic,id)\n",
        "      lista_datos.append(id)\n",
        "      h_o_m =random.randint(1,2)\n",
        "      if h_o_m == 1:\n",
        "          cant_nom = random.randint(1,2)\n",
        "          if cant_nom == 1:\n",
        "              lista_datos.append(random.choice(nombre_h))\n",
        "          else:\n",
        "              nombre = f\"{random.choice(nombre_h)} {random.choice(nombre_h)}\"\n",
        "              lista_datos.append(nombre)\n",
        "      else:\n",
        "          cant_nom = random.randint(1,2)\n",
        "          if cant_nom == 1:\n",
        "              lista_datos.append(random.choice(nombre_m))\n",
        "          else:\n",
        "              nombre = f\"{random.choice(nombre_m)} {random.choice(nombre_m)}\"\n",
        "              lista_datos.append(nombre)\n",
        "      lista_datos.append(random.choice(appaterno))\n",
        "      lista_datos.append(random.choice(apmaterno))\n",
        "      lista_datos.append(random.choice(puesto))\n",
        "      if h_o_m == 1:\n",
        "          lista_datos.append(sexo[0])\n",
        "      else:\n",
        "          lista_datos.append(sexo[1])\n",
        "      dic = dict(zip(registro,lista_datos))\n",
        "      lista_dic.append(dic)\n",
        "      print(\"Se agrego correctamente el registro\")\n",
        "      op = valinum_int(\"Deseas agregar otro registro?[1.-Si 2.-No]: \")\n",
        "      if op == 2:\n",
        "          break"
      ],
      "metadata": {
        "id": "QDnz0CC6RbI5"
      },
      "execution_count": 15,
      "outputs": []
    },
    {
      "cell_type": "code",
      "source": [
        "def elimina_dic(lista):\n",
        "    clear_output()\n",
        "    val = valinum_int(\"USUARIO QUE DESEA ELIMINAR\", \"ERROR\")\n",
        "    indice=buscar_id(lista,val,key=\"Id\")\n",
        "    if indice != -1 :\n",
        "        print(json.dumps(lista[indice], sort_keys=False, indent=2))\n",
        "        del lista[indice]\n",
        "        print(\" DATOS BORRADOS DE LA LISTA\") \n",
        "    else:\n",
        "        print(\"NO EXISTE \")\n",
        "    time.sleep(5)"
      ],
      "metadata": {
        "id": "iOltJ-aJ71y0"
      },
      "execution_count": 27,
      "outputs": []
    },
    {
      "cell_type": "code",
      "source": [
        "def buscar_id(lista,val,key):\n",
        "    lista_id = [d[key] for d in lista]\n",
        "    try:\n",
        "       indice = lista_id.index(val)\n",
        "       return indice\n",
        "    except:\n",
        "        return -1"
      ],
      "metadata": {
        "id": "0-UYZUo5XO3O"
      },
      "execution_count": 17,
      "outputs": []
    },
    {
      "cell_type": "code",
      "source": [
        "def imprimir(lista_dic):\n",
        "    clear_output()\n",
        "    salida=pd.DataFrame(lista_dic)\n",
        "    print(salida)     "
      ],
      "metadata": {
        "id": "fQnG9vRwVjeZ"
      },
      "execution_count": 18,
      "outputs": []
    },
    {
      "cell_type": "code",
      "source": [
        "def buscar_appat(lista, val, key):\n",
        "    apellido_buscado = valinum_int(\"Ingrese el apellido que desea buscar: \", \"ERROR, ingrese un apellido válido\")\n",
        "    resultado = difflib.get_close_matches(apellido_buscado, appaterno, n=1)\n",
        "    if resultado:\n",
        "        print(\"El apellido más parecido encontrado es:\", resultado[0])\n",
        "    else:\n",
        "        print(\"No se encontraron apellidos similares.\")"
      ],
      "metadata": {
        "id": "r16B1di46IZ5"
      },
      "execution_count": 19,
      "outputs": []
    },
    {
      "cell_type": "code",
      "source": [
        "def ordenar_dic(lista_dic,check_ord):\n",
        "    clear_output()\n",
        "    if check_ord == 1:\n",
        "        print(\"La lista ya se encuentra ordenada\")\n",
        "    else:\n",
        "        print(\"Se ordeno la lista\")\n",
        "        return 1"
      ],
      "metadata": {
        "id": "PfMzjSYV8Ath"
      },
      "execution_count": 20,
      "outputs": []
    },
    {
      "cell_type": "code",
      "source": [
        "\n",
        "def crear_archivo(lista_dic):\n",
        "    clear_output()\n",
        "    formato = valinum_int(\"¿Qué tipo de archivo desea crear? 1.-Excel, 2.-TXT, 3.-CSV, 4.-Markdown: \", \"ERROR\")\n",
        "    nombre_archivo = valinum_int(\"Ingrese el nombre del archivo: \")\n",
        "    \n",
        "    if formato == \"1\":\n",
        "        nombre_archivo = nombre_archivo + \".xlsx\"\n",
        "        df = pd.DataFrame(lista_dic)\n",
        "        df.to_excel(nombre_archivo, index=False)\n",
        "        print(\"Archivo Excel creado exitosamente\")\n",
        "        \n",
        "    elif formato == \"2\":\n",
        "        nombre_archivo = nombre_archivo + \".txt\"\n",
        "        with open(nombre_archivo, \"w\") as file:\n",
        "            for item in lista_dic:\n",
        "                file.write(\"%s\\n\" % item)\n",
        "        print(\"Archivo TXT creado exitosamente\")\n",
        "        \n",
        "    elif formato == \"3\":\n",
        "        nombre_archivo = nombre_archivo + \".csv\"\n",
        "        df = pd.DataFrame(lista_dic)\n",
        "        df.to_csv(nombre_archivo, index=False)\n",
        "        print(\"Archivo CSV creado exitosamente\")\n",
        "        \n",
        "    elif formato == \"4\":\n",
        "        nombre_archivo = nombre_archivo + \".md\"\n",
        "        with open(nombre_archivo, \"w\") as file:\n",
        "            file.write(\"| ID | Nombre | Apellido Paterno | Apellido Materno | Puesto | Sexo |\\n\")\n",
        "            file.write(\"|----|--------|------------------|------------------|--------|------|\\n\")\n",
        "            for item in lista_dic:\n",
        "                file.write(\"| {} | {} | {} | {} | {} | {} |\\n\".format(item[\"ID\"], item[\"Nombre\"], item[\"Ap.Paterno\"], item[\"Ap.Materno\"], item[\"Puesto\"], item[\"Sexo\"]))\n",
        "        print(\"Archivo Markdown creado exitosamente\")\n",
        "        \n",
        "    else:\n",
        "        print(\"Formato no válido\")\n",
        "    time.sleep(5)\n"
      ],
      "metadata": {
        "id": "DhQc8_lF8Bu6"
      },
      "execution_count": 21,
      "outputs": []
    },
    {
      "cell_type": "code",
      "source": [
        "\n",
        "def cargar_archivo(id_archivo, nombre_archivo_salida):\n",
        "    try:\n",
        "        # Cargar credenciales del archivo JSON\n",
        "        creds = None\n",
        "        SCOPES = ['https://www.googleapis.com/auth/drive.readonly']\n",
        "        SERVICE_ACCOUNT_FILE = '/path/to/service-account.json'\n",
        "        creds = service_account.Credentials.from_service_account_file(\n",
        "            SERVICE_ACCOUNT_FILE, scopes=SCOPES)\n",
        "        \n",
        "        # Construir el servicio de Drive API\n",
        "        service = build('drive', 'v3', credentials=creds)\n",
        "        \n",
        "        # Descargar archivo\n",
        "        archivo = service.files().get(fileId=id_archivo, fields='name, content').execute()\n",
        "        \n",
        "        # Guardar archivo en el sistema local\n",
        "        with open(nombre_archivo_salida, 'w') as f:\n",
        "            f.write(archivo['content'])\n",
        "            \n",
        "        print(f\"Archivo {archivo['name']} cargado exitosamente\")\n",
        "        \n",
        "    except HttpError as error:\n",
        "        print(f'Error al cargar el archivo desde Drive: {error}')\n"
      ],
      "metadata": {
        "id": "D1g07AODH66-"
      },
      "execution_count": 22,
      "outputs": []
    },
    {
      "cell_type": "code",
      "source": [
        "def imprimir_archivo(nombre_archivo, formato):\n",
        "    clear_output()\n",
        "    if formato == \"1\":\n",
        "        df = pd.read_excel(nombre_archivo, engine='openpyxl')\n",
        "        print(df)\n",
        "        \n",
        "    elif formato == \"2\":\n",
        "        with open(nombre_archivo) as file:\n",
        "            contenido = file.read()\n",
        "        print(contenido)\n",
        "        \n",
        "    elif formato == \"3\":\n",
        "        df = pd.read_csv(nombre_archivo)\n",
        "        print(df)\n",
        "        \n",
        "    elif formato == \"4\":\n",
        "        with open(nombre_archivo) as file:\n",
        "            contenido = file.read()\n",
        "        print(contenido)\n",
        "        \n",
        "    else:\n",
        "        print(\"Formato de archivo no válido\")\n"
      ],
      "metadata": {
        "id": "eicNisKsIfke"
      },
      "execution_count": 23,
      "outputs": []
    },
    {
      "cell_type": "code",
      "source": [
        "def borrar_lista(lista):\n",
        "    lista.clear()\n",
        "    print(\"Lista borrada exitosamente\")"
      ],
      "metadata": {
        "id": "EDJr1Y1VJEue"
      },
      "execution_count": 24,
      "outputs": []
    },
    {
      "cell_type": "code",
      "source": [
        "def menu():\n",
        "    print(\"1.- Agregar (automatico 10)\")\n",
        "    print(\"2.- Eliminar {ID}\")\n",
        "    print(\"3.- Imprimir lista ( tabla) \")\n",
        "    print(\"4.- Buscar {ID} \")\n",
        "    print(\"5.- Buscar {appat} todas las coincidencias\")\n",
        "    print(\"6.- Ordenar {ID}\")\n",
        "    print(\"7.- Generar archivo\")\n",
        "    print(\"8.- Cargar archivo {ID}\")\n",
        "    print(\"9.- Imprimir archivo {ID}\")\n",
        "    print(\"Borrar Toda la lista {ID}\")\n",
        "    print(\"0.- Salir\")"
      ],
      "metadata": {
        "id": "cg5UEpOKM_BX"
      },
      "execution_count": 25,
      "outputs": []
    },
    {
      "cell_type": "code",
      "source": [
        "lista_dic = []\n",
        "check_ord = 0\n",
        "while True:\n",
        "    opcion = valinum_int(\"Ingrese una opcion: \")\n",
        "    if opcion == 1:\n",
        "         agregar_aut(lista_dic)\n",
        "    elif opcion == 2:\n",
        "        elimina_dic(lista_dic)\n",
        "    elif opcion == 3:\n",
        "        imprimir(lista_dic)\n",
        "    elif opcion == 4:\n",
        "        buscar_id(lista_dic)\n",
        "    elif opcion == 5:\n",
        "        buscar_appat(lista_dic)\n",
        "    elif opcion == 6:\n",
        "        check_ord = ordenar_dic(lista_dic,check_ord)\n",
        "    elif opcion == 7:\n",
        "        crear_archivo(lista_dic)\n",
        "    elif opcion == 8:\n",
        "        cargar_archivo(lista_dic)\n",
        "    elif opcion == 9:\n",
        "        nombre_archivo = input(\"Ingrese el nombre del archivo: \")\n",
        "        imprimir_archivo(nombre_archivo)\n",
        "    elif opcion == 10:\n",
        "        borrar_lista()\n",
        "    elif opcion == 0:\n",
        "        print(\"Hasta luego!\")\n",
        "        break\n",
        "    else:\n",
        "        print(\"Opcion no valida, intente de nuevo\")\n",
        "    input(\"Presione Enter para continuar...\")\n",
        "    clear_output()"
      ],
      "metadata": {
        "colab": {
          "base_uri": "https://localhost:8080/"
        },
        "id": "J5AyCK5NXyPC",
        "outputId": "087d7226-28cf-4775-e41e-25ee3461d4f9"
      },
      "execution_count": null,
      "outputs": [
        {
          "output_type": "stream",
          "name": "stdout",
          "text": [
            "Se agrego correctamente el registro\n",
            "Ingresa un valor numérico entero.\n"
          ]
        }
      ]
    }
  ]
}